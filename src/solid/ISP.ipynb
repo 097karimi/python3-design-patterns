{
 "cells": [
  {
   "cell_type": "markdown",
   "id": "a5581f19",
   "metadata": {},
   "source": [
    "# Interface Segregation Principle"
   ]
  },
  {
   "cell_type": "markdown",
   "id": "14480877",
   "metadata": {},
   "source": [
    "### Imagine you have an interface which has multiple method, so you create a method which inherite from the interface.\n",
    "### the problem occured when your subclass doesn't implement the method of interface class and another developer might think that your class might have those method which came from the interface class and they may call those method and get error."
   ]
  },
  {
   "cell_type": "markdown",
   "id": "404bd061",
   "metadata": {},
   "source": [
    "### the right approach is, you should segregate the interface to different class and then any subclass must inherite the interface and then implement those method."
   ]
  },
  {
   "cell_type": "code",
   "execution_count": 6,
   "id": "3184fe87",
   "metadata": {},
   "outputs": [],
   "source": [
    "from abc import abstractmethod\n",
    "\n",
    "\n",
    "class Machine:\n",
    "    def print(self, document):\n",
    "        raise NotImplementedError()\n",
    "\n",
    "    def fax(self, document):\n",
    "        raise NotImplementedError()\n",
    "\n",
    "    def scan(self, document):\n",
    "        raise NotImplementedError()\n",
    "\n",
    "\n",
    "# ok if you need a multifunction device\n",
    "class MultiFunctionPrinter(Machine):\n",
    "    def print(self, document):\n",
    "        pass\n",
    "\n",
    "    def fax(self, document):\n",
    "        pass\n",
    "\n",
    "    def scan(self, document):\n",
    "        pass\n",
    "\n",
    "\n",
    "class OldFashionedPrinter(Machine):\n",
    "    def print(self, document):\n",
    "        # ok - print stuff\n",
    "        pass\n",
    "\n",
    "    def fax(self, document):\n",
    "        pass  # do-nothing\n",
    "\n",
    "    def scan(self, document):\n",
    "        \"\"\"Not supported!\"\"\"\n",
    "        raise NotImplementedError('Printer cannot scan!')"
   ]
  },
  {
   "cell_type": "code",
   "execution_count": 7,
   "id": "df5022be",
   "metadata": {},
   "outputs": [],
   "source": [
    "class Printer:\n",
    "    @abstractmethod\n",
    "    def print(self, document): pass\n",
    "\n",
    "\n",
    "class Scanner:\n",
    "    @abstractmethod\n",
    "    def scan(self, document): pass\n",
    "\n",
    "\n",
    "# same for Fax, etc.\n",
    "\n",
    "class MyPrinter(Printer):\n",
    "    def print(self, document):\n",
    "        print(document)\n",
    "\n",
    "\n",
    "class Photocopier(Printer, Scanner):\n",
    "    def print(self, document):\n",
    "        print(document)\n",
    "\n",
    "    def scan(self, document):\n",
    "        pass  # something meaningful\n",
    "\n",
    "\n",
    "class MultiFunctionDevice(Printer, Scanner):  # , Fax, etc\n",
    "    @abstractmethod\n",
    "    def print(self, document):\n",
    "        pass\n",
    "\n",
    "    @abstractmethod\n",
    "    def scan(self, document):\n",
    "        pass\n",
    "\n",
    "\n",
    "class MultiFunctionMachine(MultiFunctionDevice):\n",
    "    def __init__(self, printer, scanner):\n",
    "        self.printer = printer\n",
    "        self.scanner = scanner\n",
    "\n",
    "    def print(self, document):\n",
    "        self.printer.print(document)\n",
    "\n",
    "    def scan(self, document):\n",
    "        self.scanner.scan(document)"
   ]
  },
  {
   "cell_type": "code",
   "execution_count": 9,
   "id": "5f99c15f",
   "metadata": {},
   "outputs": [],
   "source": [
    "printer = OldFashionedPrinter()\n",
    "printer.fax(123)  # nothing happens\n",
    "#printer.scan(123)  # oops!"
   ]
  },
  {
   "cell_type": "markdown",
   "id": "195c77eb",
   "metadata": {},
   "source": [
    "# making an interface which has many method (implement many features) is not a good idea, because you are focing the client to define methods"
   ]
  },
  {
   "cell_type": "code",
   "execution_count": null,
   "id": "1a1c6f41",
   "metadata": {},
   "outputs": [],
   "source": []
  }
 ],
 "metadata": {
  "kernelspec": {
   "display_name": "Python 3",
   "language": "python",
   "name": "python3"
  },
  "language_info": {
   "codemirror_mode": {
    "name": "ipython",
    "version": 3
   },
   "file_extension": ".py",
   "mimetype": "text/x-python",
   "name": "python",
   "nbconvert_exporter": "python",
   "pygments_lexer": "ipython3",
   "version": "3.8.8"
  }
 },
 "nbformat": 4,
 "nbformat_minor": 5
}
