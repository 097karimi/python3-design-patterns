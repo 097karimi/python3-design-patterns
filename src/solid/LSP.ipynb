{
 "cells": [
  {
   "cell_type": "markdown",
   "id": "fc33c422",
   "metadata": {},
   "source": [
    "# LSP Liskov Substitution Principle"
   ]
  },
  {
   "cell_type": "markdown",
   "id": "adcb97f9",
   "metadata": {},
   "source": [
    "### The principle defines that objects of a superclass shall be replaceable with objects of its subclasses without breaking the application."
   ]
  },
  {
   "cell_type": "markdown",
   "id": "fa9aae2b",
   "metadata": {},
   "source": [
    "### In another word, when you have class which inherite from your base class, it should not have side effect."
   ]
  },
  {
   "cell_type": "code",
   "execution_count": 4,
   "id": "fa8cb4d2",
   "metadata": {},
   "outputs": [],
   "source": [
    "class Rectangle:\n",
    "    def __init__(self, width, height):\n",
    "        self._height = height\n",
    "        self._width = width\n",
    "\n",
    "    @property\n",
    "    def area(self):\n",
    "        return self._width * self._height\n",
    "\n",
    "    def __str__(self):\n",
    "        return f'Width: {self.width}, height: {self.height}'\n",
    "\n",
    "    @property\n",
    "    def width(self):\n",
    "        return self._width\n",
    "\n",
    "    @width.setter\n",
    "    def width(self, value):\n",
    "        self._width = value\n",
    "\n",
    "    @property\n",
    "    def height(self):\n",
    "        return self._height\n",
    "\n",
    "    @height.setter\n",
    "    def height(self, value):\n",
    "        self._height = value\n",
    "\n",
    "# Here our new class called Square is inheriting from Rectangle\n",
    "class Square(Rectangle):\n",
    "    def __init__(self, size):\n",
    "        Rectangle.__init__(self, size, size)\n",
    "        \n",
    "    # Here, we override our width and height functions which caused side effect\n",
    "    @Rectangle.width.setter\n",
    "    def width(self, value):\n",
    "        _width = _height = value\n",
    "\n",
    "    @Rectangle.height.setter\n",
    "    def height(self, value):\n",
    "        _width = _height = value"
   ]
  },
  {
   "cell_type": "code",
   "execution_count": 2,
   "id": "8280f1bf",
   "metadata": {},
   "outputs": [],
   "source": [
    "def use_it(rc):\n",
    "    w = rc.width\n",
    "    rc.height = 10  # unpleasant side effect\n",
    "    expected = int(w * 10)\n",
    "    print(f'Expected an area of {expected}, got {rc.area}')"
   ]
  },
  {
   "cell_type": "code",
   "execution_count": 3,
   "id": "971bb3ed",
   "metadata": {},
   "outputs": [
    {
     "name": "stdout",
     "output_type": "stream",
     "text": [
      "Expected an area of 20, got 20\n",
      "Expected an area of 50, got 25\n"
     ]
    }
   ],
   "source": [
    "rc = Rectangle(2, 3)\n",
    "use_it(rc)\n",
    "\n",
    "sq = Square(5)\n",
    "use_it(sq)"
   ]
  },
  {
   "cell_type": "code",
   "execution_count": null,
   "id": "07acb360",
   "metadata": {},
   "outputs": [],
   "source": []
  }
 ],
 "metadata": {
  "kernelspec": {
   "display_name": "Python 3",
   "language": "python",
   "name": "python3"
  },
  "language_info": {
   "codemirror_mode": {
    "name": "ipython",
    "version": 3
   },
   "file_extension": ".py",
   "mimetype": "text/x-python",
   "name": "python",
   "nbconvert_exporter": "python",
   "pygments_lexer": "ipython3",
   "version": "3.8.8"
  }
 },
 "nbformat": 4,
 "nbformat_minor": 5
}
