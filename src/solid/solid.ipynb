{
 "cells": [
  {
   "cell_type": "markdown",
   "id": "e0508d83",
   "metadata": {},
   "source": [
    "   # SOLID Principles"
   ]
  },
  {
   "cell_type": "markdown",
   "id": "6c989bcd",
   "metadata": {},
   "source": [
    "### This principles are introduced by uncle bob which is going to be refered many times by design patterns, so you should know about that."
   ]
  },
  {
   "cell_type": "markdown",
   "id": "bd67c8fc",
   "metadata": {},
   "source": [
    "# Single responsibility principle or Seperation of concern"
   ]
  },
  {
   "cell_type": "markdown",
   "id": "0ede2e9b",
   "metadata": {},
   "source": [
    "If you have class or function, it should be responsible for one thing."
   ]
  },
  {
   "cell_type": "code",
   "execution_count": 21,
   "id": "6f37526c",
   "metadata": {},
   "outputs": [],
   "source": [
    "class Journal:\n",
    "    def __init__(self):\n",
    "        self.entries = []\n",
    "        self.count = 0\n",
    "        \n",
    "    def add_entry(self, text):\n",
    "        self.count += 1\n",
    "        self.entries.append(f'{self.count} : {text}')\n",
    "        \n",
    "    def remove_entry(self, pos):\n",
    "        del self.entries[pos]\n",
    "    \n",
    "    def __str__(self):\n",
    "        return '\\n'.join(self.entries)\n",
    "    #so far our class has single responsibility\n",
    "    \n",
    "    # Now we add save, load and low_from_web functions to the class which gave a secandory responsibility to\n",
    "    # the class.\n",
    "    # adding this function to the Journal class is an antidesign\n",
    "    def save(self, filename):\n",
    "        file = open(filename, 'w')\n",
    "        file.write(str(self))\n",
    "        file.close()\n",
    "        \n",
    "    def load(self):\n",
    "        pass\n",
    "    \n",
    "    def low_from_web(self, uri):\n",
    "        pass"
   ]
  },
  {
   "cell_type": "code",
   "execution_count": 28,
   "id": "7453c156",
   "metadata": {},
   "outputs": [],
   "source": [
    "# now we are create another class which help us to respect SOLID principle\n",
    "class FileManager:\n",
    "    @staticmethod\n",
    "    def save(obj, filename):\n",
    "        file = open(filename, 'w')\n",
    "        file.write(str(self))\n",
    "        file.close()\n",
    "\n",
    "    def load(self):\n",
    "        pass\n",
    "\n",
    "    def low_from_web(self, uri):\n",
    "        pass"
   ]
  },
  {
   "cell_type": "code",
   "execution_count": 30,
   "id": "a9927246",
   "metadata": {},
   "outputs": [
    {
     "name": "stdout",
     "output_type": "stream",
     "text": [
      "Journal entries list\n",
      " 1 : I cried today!\n",
      "2 : I ate a bug!\n",
      "3 : I like it!\n"
     ]
    },
    {
     "ename": "PermissionError",
     "evalue": "[Errno 13] Permission denied: '/tmp.txt'",
     "output_type": "error",
     "traceback": [
      "\u001b[0;31m---------------------------------------------------------------------------\u001b[0m",
      "\u001b[0;31mPermissionError\u001b[0m                           Traceback (most recent call last)",
      "\u001b[0;32m<ipython-input-30-2cd9cf583caa>\u001b[0m in \u001b[0;36m<module>\u001b[0;34m\u001b[0m\n\u001b[1;32m      5\u001b[0m \u001b[0mprint\u001b[0m\u001b[0;34m(\u001b[0m\u001b[0;34mf'Journal entries list\\n {j}'\u001b[0m\u001b[0;34m)\u001b[0m\u001b[0;34m\u001b[0m\u001b[0;34m\u001b[0m\u001b[0m\n\u001b[1;32m      6\u001b[0m \u001b[0;34m\u001b[0m\u001b[0m\n\u001b[0;32m----> 7\u001b[0;31m \u001b[0mFileManager\u001b[0m\u001b[0;34m.\u001b[0m\u001b[0msave\u001b[0m\u001b[0;34m(\u001b[0m\u001b[0mj\u001b[0m\u001b[0;34m,\u001b[0m\u001b[0;34m'/tmp.txt'\u001b[0m\u001b[0;34m)\u001b[0m\u001b[0;34m\u001b[0m\u001b[0;34m\u001b[0m\u001b[0m\n\u001b[0m",
      "\u001b[0;32m<ipython-input-28-36f05c2cde30>\u001b[0m in \u001b[0;36msave\u001b[0;34m(obj, filename)\u001b[0m\n\u001b[1;32m      3\u001b[0m     \u001b[0;34m@\u001b[0m\u001b[0mstaticmethod\u001b[0m\u001b[0;34m\u001b[0m\u001b[0;34m\u001b[0m\u001b[0m\n\u001b[1;32m      4\u001b[0m     \u001b[0;32mdef\u001b[0m \u001b[0msave\u001b[0m\u001b[0;34m(\u001b[0m\u001b[0mobj\u001b[0m\u001b[0;34m,\u001b[0m \u001b[0mfilename\u001b[0m\u001b[0;34m)\u001b[0m\u001b[0;34m:\u001b[0m\u001b[0;34m\u001b[0m\u001b[0;34m\u001b[0m\u001b[0m\n\u001b[0;32m----> 5\u001b[0;31m         \u001b[0mfile\u001b[0m \u001b[0;34m=\u001b[0m \u001b[0mopen\u001b[0m\u001b[0;34m(\u001b[0m\u001b[0mfilename\u001b[0m\u001b[0;34m,\u001b[0m \u001b[0;34m'w'\u001b[0m\u001b[0;34m)\u001b[0m\u001b[0;34m\u001b[0m\u001b[0;34m\u001b[0m\u001b[0m\n\u001b[0m\u001b[1;32m      6\u001b[0m         \u001b[0mfile\u001b[0m\u001b[0;34m.\u001b[0m\u001b[0mwrite\u001b[0m\u001b[0;34m(\u001b[0m\u001b[0mstr\u001b[0m\u001b[0;34m(\u001b[0m\u001b[0mself\u001b[0m\u001b[0;34m)\u001b[0m\u001b[0;34m)\u001b[0m\u001b[0;34m\u001b[0m\u001b[0;34m\u001b[0m\u001b[0m\n\u001b[1;32m      7\u001b[0m         \u001b[0mfile\u001b[0m\u001b[0;34m.\u001b[0m\u001b[0mclose\u001b[0m\u001b[0;34m(\u001b[0m\u001b[0;34m)\u001b[0m\u001b[0;34m\u001b[0m\u001b[0;34m\u001b[0m\u001b[0m\n",
      "\u001b[0;31mPermissionError\u001b[0m: [Errno 13] Permission denied: '/tmp.txt'"
     ]
    }
   ],
   "source": [
    "j = Journal()\n",
    "j.add_entry(\"I cried today!\")\n",
    "j.add_entry(\"I ate a bug!\")\n",
    "j.add_entry(\"I like it!\")\n",
    "print(f'Journal entries list\\n {j}')\n",
    "\n",
    "FileManager.save(j,'/tmp.txt')"
   ]
  },
  {
   "cell_type": "code",
   "execution_count": null,
   "id": "1ef1c641",
   "metadata": {},
   "outputs": [],
   "source": []
  },
  {
   "cell_type": "code",
   "execution_count": null,
   "id": "d1964a1c",
   "metadata": {},
   "outputs": [],
   "source": []
  }
 ],
 "metadata": {
  "kernelspec": {
   "display_name": "Python 3",
   "language": "python",
   "name": "python3"
  },
  "language_info": {
   "codemirror_mode": {
    "name": "ipython",
    "version": 3
   },
   "file_extension": ".py",
   "mimetype": "text/x-python",
   "name": "python",
   "nbconvert_exporter": "python",
   "pygments_lexer": "ipython3",
   "version": "3.8.8"
  }
 },
 "nbformat": 4,
 "nbformat_minor": 5
}
