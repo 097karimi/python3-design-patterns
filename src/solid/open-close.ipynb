{
 "cells": [
  {
   "cell_type": "markdown",
   "id": "e9523367",
   "metadata": {},
   "source": [
    "# Open-Close Principle"
   ]
  },
  {
   "cell_type": "markdown",
   "id": "a799c3c2",
   "metadata": {},
   "source": [
    "### Open-Close principle is means a class should be open for extension and close to internall modification"
   ]
  },
  {
   "cell_type": "markdown",
   "id": "1258f6e4",
   "metadata": {},
   "source": [
    "### Imagine the project is on the server and you want to add new feature, if you add the new feature to a class which was already in there, you are voileting open-close principle.\n",
    "### It is not a good approach to modify a code which is already tested and used. \n",
    "### the good approach is to design a base class and then inherite from them."
   ]
  },
  {
   "cell_type": "markdown",
   "id": "6afe748b",
   "metadata": {},
   "source": [
    "#### We also have some enterprise pattern which are on the top of design pattern in following example we use one of them which called specification in order to show how to respect open-close principle\n"
   ]
  },
  {
   "cell_type": "code",
   "execution_count": 2,
   "id": "f7458e67",
   "metadata": {},
   "outputs": [],
   "source": [
    "from enum import Enum\n",
    "\n",
    "\n",
    "class Color(Enum):\n",
    "    RED = 1\n",
    "    GREEN = 2\n",
    "    BLUE = 3\n",
    "\n",
    "\n",
    "class Size(Enum):\n",
    "    SMALL = 1\n",
    "    MEDIUM = 2\n",
    "    LARGE = 3\n",
    "\n",
    "\n",
    "class Product:\n",
    "    def __init__(self, name, color, size):\n",
    "        self.name = name\n",
    "        self.color = color\n",
    "        self.size = size\n",
    "\n",
    "\n",
    "class ProductFilter:\n",
    "    def filter_by_color(self, products, color):\n",
    "        for p in products:\n",
    "            if p.color == color: yield p\n",
    "\n",
    "    def filter_by_size(self, products, size):\n",
    "        for p in products:\n",
    "            if p.size == size: yield p\n",
    "\n",
    "    def filter_by_size_and_color(self, products, size, color):\n",
    "        for p in products:\n",
    "            if p.color == color and p.size == size:\n",
    "                yield p\n",
    "\n",
    "    # state space explosion\n",
    "    # 3 criteria\n",
    "    # c s w cs sw cw csw = 7 methods\n",
    "    # This apploach is not good for scaling as far as the more criteria you have, the more function you have to\n",
    "    # write.\n",
    "\n",
    "    # OCP = open for extension, closed for modification"
   ]
  },
  {
   "cell_type": "code",
   "execution_count": 3,
   "id": "ef89a764",
   "metadata": {},
   "outputs": [],
   "source": [
    "class Specification:\n",
    "    def is_satisfied(self, item):\n",
    "        pass\n",
    "\n",
    "    # and operator makes life easier\n",
    "    def __and__(self, other):\n",
    "        return AndSpecification(self, other)\n",
    "\n",
    "\n",
    "class Filter:\n",
    "    def filter(self, items, spec):\n",
    "        pass"
   ]
  },
  {
   "cell_type": "code",
   "execution_count": 4,
   "id": "afa2a2de",
   "metadata": {},
   "outputs": [],
   "source": [
    "class ColorSpecification(Specification):\n",
    "    def __init__(self, color):\n",
    "        self.color = color\n",
    "\n",
    "    def is_satisfied(self, item):\n",
    "        return item.color == self.color\n",
    "\n",
    "\n",
    "class SizeSpecification(Specification):\n",
    "    def __init__(self, size):\n",
    "        self.size = size\n",
    "\n",
    "    def is_satisfied(self, item):\n",
    "        return item.size == self.size\n",
    "\n",
    "\n",
    "# class AndSpecification(Specification):\n",
    "#     def __init__(self, spec1, spec2):\n",
    "#         self.spec2 = spec2\n",
    "#         self.spec1 = spec1\n",
    "#\n",
    "#     def is_satisfied(self, item):\n",
    "#         return self.spec1.is_satisfied(item) and \\\n",
    "#                self.spec2.is_satisfied(item)\n",
    "\n",
    "class AndSpecification(Specification):\n",
    "    def __init__(self, *args):\n",
    "        self.args = args\n",
    "\n",
    "    def is_satisfied(self, item):\n",
    "        return all(map(\n",
    "            lambda spec: spec.is_satisfied(item), self.args))\n",
    "\n",
    "\n"
   ]
  },
  {
   "cell_type": "code",
   "execution_count": 5,
   "id": "c428511c",
   "metadata": {},
   "outputs": [],
   "source": [
    "class BetterFilter(Filter):\n",
    "    def filter(self, items, spec):\n",
    "        for item in items:\n",
    "            if spec.is_satisfied(item):\n",
    "                yield item\n",
    "\n",
    "\n"
   ]
  },
  {
   "cell_type": "code",
   "execution_count": 6,
   "id": "a9a7fe14",
   "metadata": {},
   "outputs": [
    {
     "name": "stdout",
     "output_type": "stream",
     "text": [
      "Green products (old):\n",
      " - Apple is green\n",
      " - Tree is green\n",
      "Green products (new):\n",
      " - Apple is green\n",
      " - Tree is green\n",
      "Large products:\n",
      " - Tree is large\n",
      " - House is large\n",
      "Large blue items:\n",
      " - House is large and blue\n"
     ]
    }
   ],
   "source": [
    "apple = Product('Apple', Color.GREEN, Size.SMALL)\n",
    "tree = Product('Tree', Color.GREEN, Size.LARGE)\n",
    "house = Product('House', Color.BLUE, Size.LARGE)\n",
    "\n",
    "products = [apple, tree, house]\n",
    "\n",
    "pf = ProductFilter()\n",
    "print('Green products (old):')\n",
    "for p in pf.filter_by_color(products, Color.GREEN):\n",
    "    print(f' - {p.name} is green')\n",
    "\n",
    "# ^ BEFORE\n",
    "\n",
    "# v AFTER\n",
    "bf = BetterFilter()\n",
    "\n",
    "print('Green products (new):')\n",
    "green = ColorSpecification(Color.GREEN)\n",
    "for p in bf.filter(products, green):\n",
    "    print(f' - {p.name} is green')\n",
    "\n",
    "print('Large products:')\n",
    "large = SizeSpecification(Size.LARGE)\n",
    "for p in bf.filter(products, large):\n",
    "    print(f' - {p.name} is large')\n",
    "\n",
    "print('Large blue items:')\n",
    "# large_blue = AndSpecification(large, ColorSpecification(Color.BLUE))\n",
    "large_blue = large & ColorSpecification(Color.BLUE)\n",
    "for p in bf.filter(products, large_blue):\n",
    "    print(f' - {p.name} is large and blue')"
   ]
  },
  {
   "cell_type": "code",
   "execution_count": null,
   "id": "f4f88413",
   "metadata": {},
   "outputs": [],
   "source": []
  }
 ],
 "metadata": {
  "kernelspec": {
   "display_name": "Python 3",
   "language": "python",
   "name": "python3"
  },
  "language_info": {
   "codemirror_mode": {
    "name": "ipython",
    "version": 3
   },
   "file_extension": ".py",
   "mimetype": "text/x-python",
   "name": "python",
   "nbconvert_exporter": "python",
   "pygments_lexer": "ipython3",
   "version": "3.8.8"
  }
 },
 "nbformat": 4,
 "nbformat_minor": 5
}
